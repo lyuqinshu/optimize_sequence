{
 "cells": [
  {
   "cell_type": "code",
   "execution_count": 1,
   "id": "f52f1bc7",
   "metadata": {},
   "outputs": [
    {
     "name": "stderr",
     "output_type": "stream",
     "text": [
      "c:\\Users\\LyuQi\\anaconda3\\lib\\site-packages\\scipy\\__init__.py:146: UserWarning: A NumPy version >=1.16.5 and <1.23.0 is required for this version of SciPy (detected version 1.26.4\n",
      "  warnings.warn(f\"A NumPy version >={np_minversion} and <{np_maxversion}\"\n"
     ]
    }
   ],
   "source": [
    "import cu_rsc as cr\n",
    "cr.setup_tables()\n",
    "import RSC_sim\n",
    "import numpy as np\n",
    "import cupy as cp\n",
    "import cupyx\n",
    "import matplotlib.pyplot as plt"
   ]
  },
  {
   "cell_type": "code",
   "execution_count": 2,
   "id": "0209f19d",
   "metadata": {},
   "outputs": [],
   "source": [
    "M_dev = cr.load_m_table_device()        # upload to GPU\n",
    "res   = cr.resources_from_config(M_dev)"
   ]
  },
  {
   "cell_type": "code",
   "execution_count": 3,
   "id": "ff51f6db",
   "metadata": {},
   "outputs": [],
   "source": [
    "original_cpu = RSC_sim.get_original_sequence()\n",
    "seq_cpu = original_cpu[0]*10 + original_cpu[1]*5 + original_cpu[2]*5 + original_cpu[3]*10 + original_cpu[4]*10"
   ]
  },
  {
   "cell_type": "code",
   "execution_count": 4,
   "id": "c02878a9",
   "metadata": {},
   "outputs": [],
   "source": [
    "original_gpu = cr.get_original_sequences_gpu()  # list/tuple of cp.ndarray blocks\n",
    "\n",
    "# Repeat each block along the first axis, then concatenate in order\n",
    "blocks = [\n",
    "    cp.tile(original_gpu[0], (10, 1)),  # repeat 10 times\n",
    "    cp.tile(original_gpu[1], (5,  1)),  # repeat 5 times\n",
    "    cp.tile(original_gpu[2], (5,  1)),  # repeat 5 times\n",
    "    cp.tile(original_gpu[3], (10, 1)),  # repeat 10 times\n",
    "    cp.tile(original_gpu[4], (10, 1)),  # repeat 10 times\n",
    "]\n",
    "\n",
    "seq_gpu = cp.concatenate(blocks, axis=0)"
   ]
  },
  {
   "cell_type": "code",
   "execution_count": 5,
   "id": "995be96d",
   "metadata": {},
   "outputs": [],
   "source": [
    "temp = [25e-6, 25e-6, 25e-6]\n",
    "def run_cpu(mols_cpu_num, seq_cpu):\n",
    "    # Adjust max_workers to your machine; user sample uses 16.\n",
    "    mols_cpu = RSC_sim.initialize_thermal(temp, mols_cpu_num)\n",
    "    RSC_sim.apply_raman_sequence(mols_cpu, seq_cpu, max_workers=16)\n",
    "\n",
    "def run_gpu(mols_gpu_num, seq_gpu, res, K_max=30):\n",
    "    mols_gpu = cr.build_thermal_molecules_gpu(mols_gpu_num, temp)\n",
    "    cr.raman_cool_with_pumping(mols_gpu, seq_gpu, res, K_max=K_max)\n",
    "    del mols_gpu"
   ]
  },
  {
   "cell_type": "code",
   "execution_count": 6,
   "id": "3d4e4dce",
   "metadata": {},
   "outputs": [],
   "source": [
    "def bench_func_with_cupy_benchmark(fn, *args, n_repeat=5, n_warmup=None, **kwargs):\n",
    "    \"\"\"\n",
    "    Use cupyx.profiler.benchmark to benchmark a callable (CPU or GPU).\n",
    "    Returns (mean, std) in seconds.\n",
    "    - For GPU work, uses GPU times (device-synchronized).\n",
    "    - For CPU-only work, falls back to CPU times.\n",
    "    \"\"\"\n",
    "    if n_warmup is None:\n",
    "        n_warmup = max(1, n_repeat // 5)\n",
    "\n",
    "    # Warmup (important for JIT / memory allocation)\n",
    "    fn(*args, **kwargs)\n",
    "\n",
    "    res = cupyx.profiler.benchmark(\n",
    "        fn, args=args, kwargs=kwargs, n_repeat=n_repeat, n_warmup=n_warmup\n",
    "    )\n",
    "\n",
    "    # Safely select the correct timing array\n",
    "    times = None\n",
    "    if hasattr(res, \"gpu_times\") and res.gpu_times is not None and len(res.gpu_times) > 0:\n",
    "        times = np.asarray(res.gpu_times, dtype=float)\n",
    "    elif hasattr(res, \"cpu_times\") and res.cpu_times is not None and len(res.cpu_times) > 0:\n",
    "        times = np.asarray(res.cpu_times, dtype=float)\n",
    "    elif hasattr(res, \"times\") and res.times is not None and len(res.times) > 0:\n",
    "        times = np.asarray(res.times, dtype=float)\n",
    "    else:\n",
    "        raise RuntimeError(\"cupyx.profiler.benchmark did not return valid timing arrays.\")\n",
    "\n",
    "    mean_s = float(times.mean())\n",
    "    std_s = float(times.std(ddof=1) if times.size > 1 else 0.0)\n",
    "    return mean_s, std_s"
   ]
  },
  {
   "cell_type": "code",
   "execution_count": 7,
   "id": "5766c1e9",
   "metadata": {},
   "outputs": [],
   "source": [
    "temp = [25e-6, 25e-6, 25e-6]\n",
    "\n",
    "\n",
    "# Molecule counts (log spaced)\n",
    "cpu_sizes = np.unique(np.logspace(2, 4, num=7, base=10)).astype(int)   # 1e2 .. 1e4\n",
    "gpu_sizes = np.unique(np.logspace(2, 5, num=10, base=10)).astype(int)  # 1e2 .. 1e5\n"
   ]
  },
  {
   "cell_type": "code",
   "execution_count": null,
   "id": "be0b606c",
   "metadata": {},
   "outputs": [
    {
     "name": "stderr",
     "output_type": "stream",
     "text": [
      "Applying pulses to molecules: 100%|██████████| 100/100 [00:19<00:00,  5.16it/s]\n",
      "Applying pulses to molecules: 100%|██████████| 100/100 [00:16<00:00,  6.13it/s]\n",
      "Applying pulses to molecules: 100%|██████████| 100/100 [00:13<00:00,  7.32it/s]\n",
      "Applying pulses to molecules: 100%|██████████| 100/100 [00:14<00:00,  7.12it/s]\n",
      "Applying pulses to molecules: 100%|██████████| 100/100 [00:13<00:00,  7.30it/s]\n",
      "Applying pulses to molecules: 100%|██████████| 100/100 [00:12<00:00,  7.74it/s]\n",
      "Applying pulses to molecules: 100%|██████████| 100/100 [00:14<00:00,  6.91it/s]\n"
     ]
    },
    {
     "name": "stdout",
     "output_type": "stream",
     "text": [
      "CPU n=100: 16.0428s ± 0.6736s\n"
     ]
    },
    {
     "name": "stderr",
     "output_type": "stream",
     "text": [
      "Applying pulses to molecules: 100%|██████████| 215/215 [00:18<00:00, 11.48it/s]\n",
      "Applying pulses to molecules: 100%|██████████| 215/215 [00:16<00:00, 12.95it/s]\n",
      "Applying pulses to molecules: 100%|██████████| 215/215 [00:18<00:00, 11.66it/s]\n",
      "Applying pulses to molecules: 100%|██████████| 215/215 [00:16<00:00, 13.32it/s]\n",
      "Applying pulses to molecules: 100%|██████████| 215/215 [00:16<00:00, 13.00it/s]\n",
      "Applying pulses to molecules: 100%|██████████| 215/215 [00:17<00:00, 12.56it/s]\n",
      "Applying pulses to molecules: 100%|██████████| 215/215 [00:15<00:00, 13.66it/s]\n"
     ]
    },
    {
     "name": "stdout",
     "output_type": "stream",
     "text": [
      "CPU n=215: 19.0339s ± 1.0707s\n"
     ]
    },
    {
     "name": "stderr",
     "output_type": "stream",
     "text": [
      "Applying pulses to molecules: 100%|██████████| 464/464 [00:27<00:00, 17.17it/s]\n",
      "Applying pulses to molecules: 100%|██████████| 464/464 [00:25<00:00, 17.92it/s]\n",
      "Applying pulses to molecules: 100%|██████████| 464/464 [00:26<00:00, 17.82it/s]\n",
      "Applying pulses to molecules: 100%|██████████| 464/464 [00:27<00:00, 16.66it/s]\n",
      "Applying pulses to molecules: 100%|██████████| 464/464 [00:25<00:00, 17.97it/s]\n",
      "Applying pulses to molecules: 100%|██████████| 464/464 [00:25<00:00, 18.00it/s]\n",
      "Applying pulses to molecules: 100%|██████████| 464/464 [00:25<00:00, 18.00it/s]\n"
     ]
    },
    {
     "name": "stdout",
     "output_type": "stream",
     "text": [
      "CPU n=464: 28.9747s ± 1.2758s\n"
     ]
    },
    {
     "name": "stderr",
     "output_type": "stream",
     "text": [
      "Applying pulses to molecules: 100%|██████████| 1000/1000 [00:43<00:00, 22.94it/s]\n",
      "Applying pulses to molecules: 100%|██████████| 1000/1000 [00:46<00:00, 21.48it/s]\n",
      "Applying pulses to molecules: 100%|██████████| 1000/1000 [00:46<00:00, 21.61it/s]\n",
      "Applying pulses to molecules: 100%|██████████| 1000/1000 [00:45<00:00, 22.20it/s]\n",
      "Applying pulses to molecules: 100%|██████████| 1000/1000 [00:43<00:00, 22.74it/s]\n",
      "Applying pulses to molecules: 100%|██████████| 1000/1000 [00:45<00:00, 21.75it/s]\n",
      "Applying pulses to molecules: 100%|██████████| 1000/1000 [00:45<00:00, 21.92it/s]\n"
     ]
    },
    {
     "name": "stdout",
     "output_type": "stream",
     "text": [
      "CPU n=1000: 48.4503s ± 0.9541s\n"
     ]
    },
    {
     "name": "stderr",
     "output_type": "stream",
     "text": [
      "Applying pulses to molecules: 100%|██████████| 2154/2154 [01:25<00:00, 25.29it/s]\n",
      "Applying pulses to molecules: 100%|██████████| 2154/2154 [01:22<00:00, 26.00it/s]\n",
      "Applying pulses to molecules: 100%|██████████| 2154/2154 [01:24<00:00, 25.44it/s]\n",
      "Applying pulses to molecules: 100%|██████████| 2154/2154 [01:23<00:00, 25.83it/s]\n",
      "Applying pulses to molecules: 100%|██████████| 2154/2154 [01:25<00:00, 25.11it/s]\n",
      "Applying pulses to molecules: 100%|██████████| 2154/2154 [01:23<00:00, 25.79it/s]\n",
      "Applying pulses to molecules: 100%|██████████| 2154/2154 [01:21<00:00, 26.56it/s]\n"
     ]
    },
    {
     "name": "stdout",
     "output_type": "stream",
     "text": [
      "CPU n=2154: 87.8810s ± 1.9590s\n"
     ]
    },
    {
     "name": "stderr",
     "output_type": "stream",
     "text": [
      "Applying pulses to molecules: 100%|██████████| 4641/4641 [02:46<00:00, 27.82it/s]\n",
      "Applying pulses to molecules: 100%|██████████| 4641/4641 [02:47<00:00, 27.66it/s]\n",
      "Applying pulses to molecules: 100%|██████████| 4641/4641 [02:45<00:00, 28.04it/s]\n",
      "Applying pulses to molecules: 100%|██████████| 4641/4641 [02:44<00:00, 28.13it/s]\n",
      "Applying pulses to molecules: 100%|██████████| 4641/4641 [02:46<00:00, 27.83it/s]\n",
      "Applying pulses to molecules: 100%|██████████| 4641/4641 [02:42<00:00, 28.60it/s]\n",
      "Applying pulses to molecules: 100%|██████████| 4641/4641 [02:42<00:00, 28.54it/s] \n"
     ]
    },
    {
     "name": "stdout",
     "output_type": "stream",
     "text": [
      "CPU n=4641: 170.8117s ± 2.0641s\n"
     ]
    },
    {
     "name": "stderr",
     "output_type": "stream",
     "text": [
      "Applying pulses to molecules: 100%|██████████| 10000/10000 [05:36<00:00, 29.68it/s]\n",
      "Applying pulses to molecules: 100%|██████████| 10000/10000 [05:41<00:00, 29.31it/s]\n",
      "Applying pulses to molecules: 100%|██████████| 10000/10000 [05:36<00:00, 29.74it/s]\n",
      "Applying pulses to molecules: 100%|██████████| 10000/10000 [05:43<00:00, 29.14it/s]\n",
      "Applying pulses to molecules: 100%|██████████| 10000/10000 [05:40<00:00, 29.33it/s]\n",
      "Applying pulses to molecules: 100%|██████████| 10000/10000 [05:38<00:00, 29.55it/s]\n",
      "Applying pulses to molecules: 100%|██████████| 10000/10000 [05:41<00:00, 29.25it/s]\n"
     ]
    },
    {
     "name": "stdout",
     "output_type": "stream",
     "text": [
      "CPU n=10000: 349.2925s ± 2.7447s\n"
     ]
    }
   ],
   "source": [
    "# ---------------- CPU sweep ----------------\n",
    "cpu_means, cpu_stds = [], []\n",
    "for n in cpu_sizes:\n",
    "    mean_s, std_s = bench_func_with_cupy_benchmark(run_cpu, n, seq_cpu, n_repeat=5)\n",
    "    cpu_means.append(mean_s)\n",
    "    cpu_stds.append(std_s)\n",
    "    print(f\"CPU n={n}: {mean_s:.4f}s ± {std_s:.4f}s\")\n"
   ]
  },
  {
   "cell_type": "code",
   "execution_count": 20,
   "id": "ec8e10c0",
   "metadata": {},
   "outputs": [
    {
     "name": "stderr",
     "output_type": "stream",
     "text": [
      "Applying pulses to molecules: 100%|██████████| 21544/21544 [11:32<00:00, 31.10it/s]\n",
      "Applying pulses to molecules: 100%|██████████| 21544/21544 [12:01<00:00, 29.85it/s]\n",
      "Applying pulses to molecules: 100%|██████████| 21544/21544 [11:59<00:00, 29.95it/s]\n"
     ]
    },
    {
     "name": "stdout",
     "output_type": "stream",
     "text": [
      "CPU n=21544: 733.6793s ± 0.0000s\n"
     ]
    }
   ],
   "source": [
    "# ---------------- CPU sweep ----------------\n",
    "cpu_sizes = [21544]\n",
    "for n in cpu_sizes:\n",
    "    mean_s, std_s = bench_func_with_cupy_benchmark(run_cpu, n, seq_cpu, n_repeat=1)\n",
    "    cpu_means.append(mean_s)\n",
    "    cpu_stds.append(std_s)\n",
    "    print(f\"CPU n={n}: {mean_s:.4f}s ± {std_s:.4f}s\")\n"
   ]
  },
  {
   "cell_type": "code",
   "execution_count": 13,
   "id": "dcbb9c29",
   "metadata": {},
   "outputs": [
    {
     "name": "stdout",
     "output_type": "stream",
     "text": [
      "GPU n=   100: mean=17.3766s  std=0.7963s\n",
      "GPU n=   215: mean=20.6760s  std=0.5489s\n",
      "GPU n=   464: mean=25.2405s  std=0.7507s\n",
      "GPU n=  1000: mean=31.7108s  std=2.2647s\n",
      "GPU n=  2154: mean=36.4431s  std=1.0089s\n",
      "GPU n=  4641: mean=44.8696s  std=0.7739s\n",
      "GPU n= 10000: mean=70.7676s  std=0.6559s\n",
      "GPU n= 21544: mean=128.3942s  std=1.2938s\n",
      "GPU n= 46415: mean=259.5288s  std=1.4782s\n",
      "GPU n=100000: mean=563.9746s  std=4.5748s\n"
     ]
    }
   ],
   "source": [
    "\n",
    "gpu_means, gpu_stds = [], []\n",
    "# ---------------- GPU sweep ----------------\n",
    "# Memory pool helps avoid OOM and gets consistent timings\n",
    "mpool = cp.get_default_memory_pool()\n",
    "for n in gpu_sizes:\n",
    "    # Pre-synchronize before timing\n",
    "    cp.cuda.Device().synchronize()\n",
    "\n",
    "    mean_s, std_s = bench_func_with_cupy_benchmark(run_gpu, n, seq_gpu, res, K_max=30, n_repeat=5)\n",
    "    gpu_means.append(mean_s)\n",
    "    gpu_stds.append(std_s)\n",
    "    print(f\"GPU n={n:>6}: mean={mean_s:.4f}s  std={std_s:.4f}s\")\n",
    "\n",
    "    cp.cuda.Device().synchronize()\n",
    "    mpool.free_all_blocks()\n"
   ]
  },
  {
   "cell_type": "code",
   "execution_count": 27,
   "id": "1cd8e839",
   "metadata": {},
   "outputs": [],
   "source": [
    "n_plot = np.concatenate((np.unique(np.logspace(2, 4, num=7, base=10)).astype(int), np.array(cpu_sizes)))"
   ]
  },
  {
   "cell_type": "code",
   "execution_count": null,
   "id": "8b6e41d4",
   "metadata": {},
   "outputs": [
    {
     "name": "stderr",
     "output_type": "stream",
     "text": [
      "Applying pulses to molecules: 100%|██████████| 10/10 [00:10<00:00,  1.01s/it]\n",
      "Applying pulses to molecules: 100%|██████████| 10/10 [00:07<00:00,  1.40it/s]\n",
      "Applying pulses to molecules: 100%|██████████| 10/10 [00:05<00:00,  1.94it/s]\n",
      "Applying pulses to molecules: 100%|██████████| 10/10 [00:04<00:00,  2.06it/s]\n",
      "Applying pulses to molecules: 100%|██████████| 10/10 [00:04<00:00,  2.06it/s]\n",
      "Applying pulses to molecules: 100%|██████████| 10/10 [00:05<00:00,  1.98it/s]\n",
      "Applying pulses to molecules: 100%|██████████| 10/10 [00:05<00:00,  1.97it/s]\n"
     ]
    },
    {
     "name": "stdout",
     "output_type": "stream",
     "text": [
      "CPU n=10: 6.2707s ± 0.1858s\n"
     ]
    },
    {
     "name": "stderr",
     "output_type": "stream",
     "text": [
      "Applying pulses to molecules: 100%|██████████| 50/50 [00:10<00:00,  4.82it/s]\n",
      "Applying pulses to molecules: 100%|██████████| 50/50 [00:12<00:00,  3.99it/s]\n",
      "Applying pulses to molecules: 100%|██████████| 50/50 [00:15<00:00,  3.28it/s]\n",
      "Applying pulses to molecules: 100%|██████████| 50/50 [00:14<00:00,  3.36it/s]\n",
      "Applying pulses to molecules: 100%|██████████| 50/50 [00:15<00:00,  3.17it/s]\n",
      "Applying pulses to molecules: 100%|██████████| 50/50 [00:14<00:00,  3.47it/s]\n",
      "Applying pulses to molecules: 100%|██████████| 50/50 [00:14<00:00,  3.51it/s]\n"
     ]
    },
    {
     "name": "stdout",
     "output_type": "stream",
     "text": [
      "CPU n=50: 17.6484s ± 0.5113s\n"
     ]
    }
   ],
   "source": [
    "# ---------------- CPU sweep ----------------\n",
    "cpu_sizes = [10, 50]\n",
    "n_plot = np.concatenate((n_plot, cpu_sizes))\n",
    "for n in cpu_sizes:\n",
    "    mean_s, std_s = bench_func_with_cupy_benchmark(run_cpu, n, seq_cpu, n_repeat=5)\n",
    "    cpu_means.append(mean_s)\n",
    "    cpu_stds.append(std_s)\n",
    "    print(f\"CPU n={n}: {mean_s:.4f}s ± {std_s:.4f}s\")\n"
   ]
  },
  {
   "cell_type": "code",
   "execution_count": 41,
   "id": "61bea2fd",
   "metadata": {},
   "outputs": [
    {
     "name": "stdout",
     "output_type": "stream",
     "text": [
      "GPU n=    10: mean=5.7640s  std=1.2959s\n",
      "GPU n=    50: mean=12.1222s  std=0.8422s\n"
     ]
    }
   ],
   "source": [
    "# ---------------- CPU sweep ----------------\n",
    "scan = [10, 50]\n",
    "gpu_sizes = np.concatenate((gpu_sizes, scan))\n",
    "for n in scan:\n",
    "    # Pre-synchronize before timing\n",
    "    cp.cuda.Device().synchronize()\n",
    "\n",
    "    mean_s, std_s = bench_func_with_cupy_benchmark(run_gpu, n, seq_gpu, res, K_max=30, n_repeat=5)\n",
    "    gpu_means.append(mean_s)\n",
    "    gpu_stds.append(std_s)\n",
    "    print(f\"GPU n={n:>6}: mean={mean_s:.4f}s  std={std_s:.4f}s\")\n",
    "\n",
    "    cp.cuda.Device().synchronize()\n",
    "    mpool.free_all_blocks()\n"
   ]
  },
  {
   "cell_type": "code",
   "execution_count": 43,
   "id": "2bb2eb0c",
   "metadata": {},
   "outputs": [
    {
     "data": {
      "text/plain": [
       "array([   100,    215,    464,   1000,   2154,   4641,  10000,  21544,\n",
       "        46415, 100000,     10,     50])"
      ]
     },
     "execution_count": 43,
     "metadata": {},
     "output_type": "execute_result"
    }
   ],
   "source": [
    "gpu_sizes\n"
   ]
  },
  {
   "cell_type": "code",
   "execution_count": 44,
   "id": "71caa1bc",
   "metadata": {},
   "outputs": [
    {
     "data": {
      "text/plain": [
       "array([  100,   215,   464,  1000,  2154,  4641, 10000, 21544,    10,\n",
       "          50])"
      ]
     },
     "execution_count": 44,
     "metadata": {},
     "output_type": "execute_result"
    }
   ],
   "source": [
    "n_plot"
   ]
  },
  {
   "cell_type": "code",
   "execution_count": 47,
   "id": "6a9e858d",
   "metadata": {},
   "outputs": [
    {
     "data": {
      "image/png": "[encoded data removed]",
      "text/plain": [
       "<Figure size 432x288 with 1 Axes>"
      ]
     },
     "metadata": {
      "needs_background": "light"
     },
     "output_type": "display_data"
    }
   ],
   "source": [
    "import matplotlib.ticker as ticker\n",
    "plt.figure()\n",
    "ind_cpu = np.argsort(n_plot)\n",
    "plt.errorbar(np.array(n_plot)[ind_cpu], \n",
    "             np.array(cpu_means)[ind_cpu], \n",
    "             yerr=np.array(cpu_stds)[ind_cpu], \n",
    "             fmt='o-', capsize=3, label='CPU')\n",
    "ind_gpu = np.argsort(gpu_sizes)\n",
    "plt.errorbar(np.array(gpu_sizes)[ind_gpu], \n",
    "             np.array(gpu_means)[ind_gpu], \n",
    "             yerr=np.array(gpu_stds)[ind_gpu], \n",
    "             fmt='o-', capsize=3, label='GPU')\n",
    "plt.xscale('log')\n",
    "plt.yscale('log')\n",
    "ax = plt.gca()\n",
    "ax.yaxis.set_major_locator(ticker.LogLocator(base=10.0, numticks=15))\n",
    "ax.yaxis.set_minor_locator(ticker.LogLocator(base=10.0, subs=np.arange(2, 10)*0.1, numticks=100))\n",
    "ax.yaxis.set_minor_formatter(ticker.NullFormatter())\n",
    "\n",
    "plt.xlabel('Number of molecules', fontsize=12)\n",
    "plt.ylabel('Run time (s)', fontsize=12)\n",
    "plt.title(\"Full 280-pulse Raman Sideband Cooling\", fontsize=13)\n",
    "\n",
    "plt.legend()\n",
    "plt.grid(True, which='both', ls='--', alpha=0.4)\n",
    "plt.tight_layout()\n",
    "plt.show()"
   ]
  },
  {
   "cell_type": "code",
   "execution_count": 46,
   "id": "63cb1c1e",
   "metadata": {},
   "outputs": [],
   "source": [
    "np.savez(\n",
    "    \"Full_benchmark.npz\", \n",
    "    cpu_sizes=n_plot, \n",
    "    cpu_means=cpu_means,\n",
    "    cpu_stds=cpu_stds,\n",
    "    gpu_sizes=gpu_sizes,\n",
    "    gpu_means=gpu_means,\n",
    "    gpu_stds=gpu_stds)"
   ]
  },
  {
   "cell_type": "code",
   "execution_count": null,
   "id": "4b3b7a10",
   "metadata": {},
   "outputs": [],
   "source": []
  }
 ],
 "metadata": {
  "kernelspec": {
   "display_name": "base",
   "language": "python",
   "name": "python3"
  },
  "language_info": {
   "codemirror_mode": {
    "name": "ipython",
    "version": 3
   },
   "file_extension": ".py",
   "mimetype": "text/x-python",
   "name": "python",
   "nbconvert_exporter": "python",
   "pygments_lexer": "ipython3",
   "version": "3.9.12"
  }
 },
 "nbformat": 4,
 "nbformat_minor": 5
}
