{
 "cells": [
  {
   "cell_type": "code",
   "execution_count": 1,
   "id": "47e4579b",
   "metadata": {},
   "outputs": [
    {
     "name": "stderr",
     "output_type": "stream",
     "text": [
      "c:\\Users\\LyuQi\\anaconda3\\lib\\site-packages\\scipy\\__init__.py:146: UserWarning: A NumPy version >=1.16.5 and <1.23.0 is required for this version of SciPy (detected version 1.26.4\n",
      "  warnings.warn(f\"A NumPy version >={np_minversion} and <{np_maxversion}\"\n"
     ]
    }
   ],
   "source": [
    "import cu_rsc as cr\n",
    "cr.setup_tables()\n",
    "import RSC_sim\n",
    "import numpy as np\n",
    "import cupy as cp\n",
    "import cupyx\n",
    "import matplotlib.pyplot as plt"
   ]
  },
  {
   "cell_type": "code",
   "execution_count": 12,
   "id": "5e5461f7",
   "metadata": {},
   "outputs": [],
   "source": [
    "M_dev = cr.load_m_table_device()        # upload to GPU\n",
    "res   = cr.resources_from_config(M_dev)"
   ]
  },
  {
   "cell_type": "code",
   "execution_count": 13,
   "id": "1a7bbceb",
   "metadata": {},
   "outputs": [],
   "source": [
    "original_cpu = RSC_sim.get_original_sequence()\n",
    "seq_cpu = original_cpu[0]*10"
   ]
  },
  {
   "cell_type": "code",
   "execution_count": 14,
   "id": "a90ff9df",
   "metadata": {},
   "outputs": [],
   "source": [
    "original_gpu = cr.get_original_sequences_gpu()  # list/tuple of cp.ndarray blocks\n",
    "\n",
    "# Repeat each block along the first axis, then concatenate in order\n",
    "blocks = [\n",
    "    cp.tile(original_gpu[0], (10, 1)),  # repeat 10 times\n",
    "]\n",
    "\n",
    "seq_gpu = cp.concatenate(blocks, axis=0)"
   ]
  },
  {
   "cell_type": "code",
   "execution_count": 15,
   "id": "1b158493",
   "metadata": {},
   "outputs": [],
   "source": [
    "temp = [25e-6, 25e-6, 25e-6]\n",
    "def run_cpu(mols_cpu_num, seq_cpu):\n",
    "    # Adjust max_workers to your machine; user sample uses 16.\n",
    "    mols_cpu = RSC_sim.initialize_thermal(temp, mols_cpu_num)\n",
    "    RSC_sim.apply_raman_sequence(mols_cpu, seq_cpu, max_workers=16)\n",
    "\n",
    "def run_gpu(mols_gpu_num, seq_gpu, res, K_max=30):\n",
    "    mols_gpu = cr.build_thermal_molecules_gpu(mols_gpu_num, temp)\n",
    "    cr.raman_cool_with_pumping(mols_gpu, seq_gpu, res, K_max=K_max)\n",
    "    del mols_gpu"
   ]
  },
  {
   "cell_type": "code",
   "execution_count": 16,
   "id": "c77eb75e",
   "metadata": {},
   "outputs": [],
   "source": [
    "def bench_func_with_cupy_benchmark(fn, *args, n_repeat=5, n_warmup=None, **kwargs):\n",
    "    \"\"\"\n",
    "    Use cupyx.profiler.benchmark to benchmark a callable (CPU or GPU).\n",
    "    Returns (mean, std) in seconds.\n",
    "    - For GPU work, uses GPU times (device-synchronized).\n",
    "    - For CPU-only work, falls back to CPU times.\n",
    "    \"\"\"\n",
    "    if n_warmup is None:\n",
    "        n_warmup = max(1, n_repeat // 5)\n",
    "\n",
    "    # Warmup (important for JIT / memory allocation)\n",
    "    fn(*args, **kwargs)\n",
    "\n",
    "    res = cupyx.profiler.benchmark(\n",
    "        fn, args=args, kwargs=kwargs, n_repeat=n_repeat, n_warmup=n_warmup\n",
    "    )\n",
    "\n",
    "    # Safely select the correct timing array\n",
    "    times = None\n",
    "    if hasattr(res, \"gpu_times\") and res.gpu_times is not None and len(res.gpu_times) > 0:\n",
    "        times = np.asarray(res.gpu_times, dtype=float)\n",
    "    elif hasattr(res, \"cpu_times\") and res.cpu_times is not None and len(res.cpu_times) > 0:\n",
    "        times = np.asarray(res.cpu_times, dtype=float)\n",
    "    elif hasattr(res, \"times\") and res.times is not None and len(res.times) > 0:\n",
    "        times = np.asarray(res.times, dtype=float)\n",
    "    else:\n",
    "        raise RuntimeError(\"cupyx.profiler.benchmark did not return valid timing arrays.\")\n",
    "\n",
    "    mean_s = float(times.mean())\n",
    "    std_s = float(times.std(ddof=1) if times.size > 1 else 0.0)\n",
    "    return mean_s, std_s"
   ]
  },
  {
   "cell_type": "code",
   "execution_count": 17,
   "id": "e611f57b",
   "metadata": {},
   "outputs": [
    {
     "name": "stdout",
     "output_type": "stream",
     "text": [
      "[   10    50   100   177   316   562  1000  1778  3162  5623 10000]\n",
      "[    10     50    100    199    398    794   1584   3162   6309  12589\n",
      "  25118  50118 100000]\n"
     ]
    }
   ],
   "source": [
    "temp = [25e-6, 25e-6, 25e-6]\n",
    "\n",
    "\n",
    "# Molecule counts (log spaced)\n",
    "cpu_sizes = np.unique(np.logspace(2, 4, num=9, base=10)).astype(int)   # 1e2 .. 1e4\n",
    "gpu_sizes = np.unique(np.logspace(2, 5, num=11, base=10)).astype(int)  # 1e2 .. 1e5\n",
    "\n",
    "cpu_sizes = np.concatenate((np.array([10, 50]), cpu_sizes))\n",
    "gpu_sizes = np.concatenate((np.array([10, 50]), gpu_sizes))\n",
    "\n",
    "print(cpu_sizes)\n",
    "print(gpu_sizes)"
   ]
  },
  {
   "cell_type": "code",
   "execution_count": 18,
   "id": "d80b305a",
   "metadata": {},
   "outputs": [
    {
     "name": "stderr",
     "output_type": "stream",
     "text": [
      "Applying pulses to molecules: 100%|██████████| 10/10 [00:08<00:00,  1.14it/s]\n",
      "Applying pulses to molecules: 100%|██████████| 10/10 [00:06<00:00,  1.64it/s]\n",
      "Applying pulses to molecules: 100%|██████████| 10/10 [00:05<00:00,  1.90it/s]\n",
      "Applying pulses to molecules: 100%|██████████| 10/10 [00:04<00:00,  2.23it/s]\n",
      "Applying pulses to molecules: 100%|██████████| 10/10 [00:04<00:00,  2.28it/s]\n",
      "Applying pulses to molecules: 100%|██████████| 10/10 [00:04<00:00,  2.29it/s]\n",
      "Applying pulses to molecules: 100%|██████████| 10/10 [00:04<00:00,  2.38it/s]\n"
     ]
    },
    {
     "name": "stdout",
     "output_type": "stream",
     "text": [
      "CPU n=10: 5.8434s ± 0.4740s\n"
     ]
    },
    {
     "name": "stderr",
     "output_type": "stream",
     "text": [
      "Applying pulses to molecules: 100%|██████████| 50/50 [00:08<00:00,  6.06it/s]\n",
      "Applying pulses to molecules: 100%|██████████| 50/50 [00:09<00:00,  5.26it/s]\n",
      "Applying pulses to molecules: 100%|██████████| 50/50 [00:10<00:00,  4.85it/s]\n",
      "Applying pulses to molecules: 100%|██████████| 50/50 [00:10<00:00,  4.82it/s]\n",
      "Applying pulses to molecules: 100%|██████████| 50/50 [00:12<00:00,  4.06it/s]\n",
      "Applying pulses to molecules: 100%|██████████| 50/50 [00:11<00:00,  4.19it/s]\n",
      "Applying pulses to molecules: 100%|██████████| 50/50 [00:11<00:00,  4.37it/s]\n"
     ]
    },
    {
     "name": "stdout",
     "output_type": "stream",
     "text": [
      "CPU n=50: 14.1382s ± 0.5902s\n"
     ]
    },
    {
     "name": "stderr",
     "output_type": "stream",
     "text": [
      "Applying pulses to molecules: 100%|██████████| 100/100 [00:11<00:00,  8.43it/s]\n",
      "Applying pulses to molecules: 100%|██████████| 100/100 [00:12<00:00,  8.22it/s]\n",
      "Applying pulses to molecules: 100%|██████████| 100/100 [00:11<00:00,  8.41it/s]\n",
      "Applying pulses to molecules: 100%|██████████| 100/100 [00:14<00:00,  6.78it/s]\n",
      "Applying pulses to molecules: 100%|██████████| 100/100 [00:12<00:00,  7.91it/s]\n",
      "Applying pulses to molecules: 100%|██████████| 100/100 [00:12<00:00,  8.22it/s]\n",
      "Applying pulses to molecules: 100%|██████████| 100/100 [00:11<00:00,  8.68it/s]\n"
     ]
    },
    {
     "name": "stdout",
     "output_type": "stream",
     "text": [
      "CPU n=100: 15.3807s ± 1.4701s\n"
     ]
    },
    {
     "name": "stderr",
     "output_type": "stream",
     "text": [
      "Applying pulses to molecules: 100%|██████████| 177/177 [00:11<00:00, 14.78it/s]\n",
      "Applying pulses to molecules: 100%|██████████| 177/177 [00:11<00:00, 15.93it/s]\n",
      "Applying pulses to molecules: 100%|██████████| 177/177 [00:12<00:00, 14.40it/s] \n",
      "Applying pulses to molecules: 100%|██████████| 177/177 [00:11<00:00, 15.55it/s]\n",
      "Applying pulses to molecules: 100%|██████████| 177/177 [00:12<00:00, 14.15it/s]\n",
      "Applying pulses to molecules: 100%|██████████| 177/177 [00:12<00:00, 14.32it/s]\n",
      "Applying pulses to molecules: 100%|██████████| 177/177 [00:12<00:00, 14.54it/s]\n"
     ]
    },
    {
     "name": "stdout",
     "output_type": "stream",
     "text": [
      "CPU n=177: 14.6287s ± 0.4884s\n"
     ]
    },
    {
     "name": "stderr",
     "output_type": "stream",
     "text": [
      "Applying pulses to molecules: 100%|██████████| 316/316 [00:14<00:00, 21.33it/s] \n",
      "Applying pulses to molecules: 100%|██████████| 316/316 [00:14<00:00, 21.33it/s] \n",
      "Applying pulses to molecules: 100%|██████████| 316/316 [00:11<00:00, 27.01it/s] \n",
      "Applying pulses to molecules: 100%|██████████| 316/316 [00:12<00:00, 25.65it/s] \n",
      "Applying pulses to molecules: 100%|██████████| 316/316 [00:11<00:00, 26.47it/s] \n",
      "Applying pulses to molecules: 100%|██████████| 316/316 [00:11<00:00, 26.53it/s] \n",
      "Applying pulses to molecules: 100%|██████████| 316/316 [00:12<00:00, 26.12it/s] \n"
     ]
    },
    {
     "name": "stdout",
     "output_type": "stream",
     "text": [
      "CPU n=316: 14.3401s ± 0.2562s\n"
     ]
    },
    {
     "name": "stderr",
     "output_type": "stream",
     "text": [
      "Applying pulses to molecules: 100%|██████████| 562/562 [00:13<00:00, 40.17it/s] \n",
      "Applying pulses to molecules: 100%|██████████| 562/562 [00:14<00:00, 38.32it/s] \n",
      "Applying pulses to molecules: 100%|██████████| 562/562 [00:14<00:00, 38.47it/s] \n",
      "Applying pulses to molecules: 100%|██████████| 562/562 [00:14<00:00, 38.69it/s] \n",
      "Applying pulses to molecules: 100%|██████████| 562/562 [00:14<00:00, 38.59it/s] \n",
      "Applying pulses to molecules: 100%|██████████| 562/562 [00:15<00:00, 36.59it/s] \n",
      "Applying pulses to molecules: 100%|██████████| 562/562 [00:13<00:00, 40.53it/s] \n"
     ]
    },
    {
     "name": "stdout",
     "output_type": "stream",
     "text": [
      "CPU n=562: 17.2162s ± 0.7085s\n"
     ]
    },
    {
     "name": "stderr",
     "output_type": "stream",
     "text": [
      "Applying pulses to molecules: 100%|██████████| 1000/1000 [00:17<00:00, 57.64it/s]\n",
      "Applying pulses to molecules: 100%|██████████| 1000/1000 [00:17<00:00, 57.33it/s] \n",
      "Applying pulses to molecules: 100%|██████████| 1000/1000 [00:18<00:00, 55.11it/s]\n",
      "Applying pulses to molecules: 100%|██████████| 1000/1000 [00:18<00:00, 55.16it/s]\n",
      "Applying pulses to molecules: 100%|██████████| 1000/1000 [00:19<00:00, 52.40it/s]\n",
      "Applying pulses to molecules: 100%|██████████| 1000/1000 [00:17<00:00, 56.11it/s]\n",
      "Applying pulses to molecules: 100%|██████████| 1000/1000 [00:16<00:00, 59.00it/s]\n"
     ]
    },
    {
     "name": "stdout",
     "output_type": "stream",
     "text": [
      "CPU n=1000: 20.9644s ± 1.1478s\n"
     ]
    },
    {
     "name": "stderr",
     "output_type": "stream",
     "text": [
      "Applying pulses to molecules: 100%|██████████| 1778/1778 [00:23<00:00, 75.07it/s] \n",
      "Applying pulses to molecules: 100%|██████████| 1778/1778 [00:24<00:00, 73.37it/s] \n",
      "Applying pulses to molecules: 100%|██████████| 1778/1778 [00:25<00:00, 70.34it/s] \n",
      "Applying pulses to molecules: 100%|██████████| 1778/1778 [00:25<00:00, 68.75it/s] \n",
      "Applying pulses to molecules: 100%|██████████| 1778/1778 [00:23<00:00, 74.63it/s] \n",
      "Applying pulses to molecules: 100%|██████████| 1778/1778 [00:24<00:00, 71.38it/s] \n",
      "Applying pulses to molecules: 100%|██████████| 1778/1778 [00:24<00:00, 71.38it/s] \n"
     ]
    },
    {
     "name": "stdout",
     "output_type": "stream",
     "text": [
      "CPU n=1778: 28.1348s ± 0.3681s\n"
     ]
    },
    {
     "name": "stderr",
     "output_type": "stream",
     "text": [
      "Applying pulses to molecules: 100%|██████████| 3162/3162 [00:34<00:00, 91.96it/s] \n",
      "Applying pulses to molecules: 100%|██████████| 3162/3162 [00:36<00:00, 87.60it/s] \n",
      "Applying pulses to molecules: 100%|██████████| 3162/3162 [00:34<00:00, 91.28it/s] \n",
      "Applying pulses to molecules: 100%|██████████| 3162/3162 [00:34<00:00, 90.54it/s] \n",
      "Applying pulses to molecules: 100%|██████████| 3162/3162 [00:33<00:00, 93.04it/s] \n",
      "Applying pulses to molecules: 100%|██████████| 3162/3162 [00:35<00:00, 88.41it/s] \n",
      "Applying pulses to molecules: 100%|██████████| 3162/3162 [00:34<00:00, 91.75it/s] \n"
     ]
    },
    {
     "name": "stdout",
     "output_type": "stream",
     "text": [
      "CPU n=3162: 38.9505s ± 1.0022s\n"
     ]
    },
    {
     "name": "stderr",
     "output_type": "stream",
     "text": [
      "Applying pulses to molecules: 100%|██████████| 5623/5623 [00:52<00:00, 107.99it/s]\n",
      "Applying pulses to molecules: 100%|██████████| 5623/5623 [00:52<00:00, 107.20it/s]\n",
      "Applying pulses to molecules: 100%|██████████| 5623/5623 [00:55<00:00, 101.44it/s]\n",
      "Applying pulses to molecules: 100%|██████████| 5623/5623 [00:58<00:00, 95.49it/s] \n",
      "Applying pulses to molecules: 100%|██████████| 5623/5623 [00:56<00:00, 99.63it/s] \n",
      "Applying pulses to molecules: 100%|██████████| 5623/5623 [00:56<00:00, 99.23it/s] \n",
      "Applying pulses to molecules: 100%|██████████| 5623/5623 [00:52<00:00, 107.08it/s]\n"
     ]
    },
    {
     "name": "stdout",
     "output_type": "stream",
     "text": [
      "CPU n=5623: 62.3105s ± 2.2734s\n"
     ]
    },
    {
     "name": "stderr",
     "output_type": "stream",
     "text": [
      "Applying pulses to molecules: 100%|██████████| 10000/10000 [01:26<00:00, 115.46it/s]\n",
      "Applying pulses to molecules: 100%|██████████| 10000/10000 [01:24<00:00, 118.79it/s]\n",
      "Applying pulses to molecules: 100%|██████████| 10000/10000 [01:22<00:00, 121.08it/s]\n",
      "Applying pulses to molecules: 100%|██████████| 10000/10000 [01:23<00:00, 120.09it/s]\n",
      "Applying pulses to molecules: 100%|██████████| 10000/10000 [01:21<00:00, 122.50it/s]\n",
      "Applying pulses to molecules: 100%|██████████| 10000/10000 [01:22<00:00, 120.72it/s]\n",
      "Applying pulses to molecules: 100%|██████████| 10000/10000 [01:22<00:00, 121.50it/s]\n"
     ]
    },
    {
     "name": "stdout",
     "output_type": "stream",
     "text": [
      "CPU n=10000: 89.7373s ± 0.6322s\n"
     ]
    }
   ],
   "source": [
    "# ---------------- CPU sweep ----------------\n",
    "cpu_means, cpu_stds = [], []\n",
    "for n in cpu_sizes:\n",
    "    mean_s, std_s = bench_func_with_cupy_benchmark(run_cpu, n, seq_cpu, n_repeat=5)\n",
    "    cpu_means.append(mean_s)\n",
    "    cpu_stds.append(std_s)\n",
    "    print(f\"CPU n={n}: {mean_s:.4f}s ± {std_s:.4f}s\")\n"
   ]
  },
  {
   "cell_type": "code",
   "execution_count": 19,
   "id": "55af877c",
   "metadata": {},
   "outputs": [
    {
     "name": "stdout",
     "output_type": "stream",
     "text": [
      "GPU n=    10: mean=0.8201s  std=0.1366s\n",
      "GPU n=    50: mean=1.9423s  std=0.3313s\n",
      "GPU n=   100: mean=2.3634s  std=0.3465s\n",
      "GPU n=   199: mean=3.0932s  std=0.2827s\n",
      "GPU n=   398: mean=3.4484s  std=0.1816s\n",
      "GPU n=   794: mean=4.1532s  std=0.2331s\n",
      "GPU n=  1584: mean=5.6649s  std=0.2127s\n",
      "GPU n=  3162: mean=6.4195s  std=0.2139s\n",
      "GPU n=  6309: mean=8.0294s  std=0.1858s\n",
      "GPU n= 12589: mean=12.8335s  std=0.3998s\n",
      "GPU n= 25118: mean=21.4563s  std=0.4452s\n",
      "GPU n= 50118: mean=40.5348s  std=0.5651s\n",
      "GPU n=100000: mean=80.1135s  std=0.8893s\n"
     ]
    }
   ],
   "source": [
    "\n",
    "gpu_means, gpu_stds = [], []\n",
    "# ---------------- GPU sweep ----------------\n",
    "# Memory pool helps avoid OOM and gets consistent timings\n",
    "mpool = cp.get_default_memory_pool()\n",
    "for n in gpu_sizes:\n",
    "    # Pre-synchronize before timing\n",
    "    cp.cuda.Device().synchronize()\n",
    "\n",
    "    mean_s, std_s = bench_func_with_cupy_benchmark(run_gpu, n, seq_gpu, res, K_max=30, n_repeat=5)\n",
    "    gpu_means.append(mean_s)\n",
    "    gpu_stds.append(std_s)\n",
    "    print(f\"GPU n={n:>6}: mean={mean_s:.4f}s  std={std_s:.4f}s\")\n",
    "\n",
    "    cp.cuda.Device().synchronize()\n",
    "    mpool.free_all_blocks()\n"
   ]
  },
  {
   "cell_type": "code",
   "execution_count": 2,
   "id": "a3e8a7b6",
   "metadata": {},
   "outputs": [],
   "source": [
    "data = np.load(\"XY_benchmark.npz\")\n",
    "cpu_sizes = data['cpu_sizes']\n",
    "cpu_means = data['cpu_means']\n",
    "cpu_stds = data['cpu_stds']\n",
    "gpu_sizes = data['gpu_sizes']\n",
    "gpu_means = data['gpu_means']\n",
    "gpu_stds = data['gpu_stds']"
   ]
  },
  {
   "cell_type": "code",
   "execution_count": 4,
   "id": "577c94eb",
   "metadata": {},
   "outputs": [
    {
     "data": {
      "image/png": "[encoded data removed]",
      "text/plain": [
       "<Figure size 432x288 with 1 Axes>"
      ]
     },
     "metadata": {
      "needs_background": "light"
     },
     "output_type": "display_data"
    }
   ],
   "source": [
    "import matplotlib.ticker as ticker\n",
    "plt.figure()\n",
    "plt.errorbar(cpu_sizes, \n",
    "             cpu_means, \n",
    "             yerr=cpu_stds, \n",
    "             fmt='o-', capsize=3, label='CPU')\n",
    "plt.errorbar(gpu_sizes, \n",
    "             gpu_means, \n",
    "             yerr=gpu_stds, \n",
    "             fmt='o-', capsize=3, label='GPU')\n",
    "plt.xscale('log')\n",
    "plt.yscale('log')\n",
    "ax = plt.gca()\n",
    "ax.yaxis.set_major_locator(ticker.LogLocator(base=10.0, numticks=15))\n",
    "ax.yaxis.set_minor_locator(ticker.LogLocator(base=10.0, subs=np.arange(2, 10)*0.1, numticks=100))\n",
    "ax.yaxis.set_minor_formatter(ticker.NullFormatter())\n",
    "\n",
    "plt.xlabel('Number of molecules', fontsize=12)\n",
    "plt.ylabel('Run time (s)', fontsize=12)\n",
    "plt.title(\"40-pulse Raman Sideband Cooling\", fontsize=13)\n",
    "\n",
    "plt.legend()\n",
    "plt.grid(True, which='both', ls='--', alpha=0.4)\n",
    "plt.tight_layout()\n",
    "plt.show()"
   ]
  },
  {
   "cell_type": "code",
   "execution_count": null,
   "id": "6cbe754c",
   "metadata": {},
   "outputs": [],
   "source": [
    "np.savez(\n",
    "    \"XY_benchmark.npz\", \n",
    "    cpu_sizes=cpu_sizes, \n",
    "    cpu_means=cpu_means,\n",
    "    cpu_stds=cpu_stds,\n",
    "    gpu_sizes=gpu_sizes,\n",
    "    gpu_means=gpu_means,\n",
    "    gpu_stds=gpu_stds)"
   ]
  }
 ],
 "metadata": {
  "kernelspec": {
   "display_name": "base",
   "language": "python",
   "name": "python3"
  },
  "language_info": {
   "codemirror_mode": {
    "name": "ipython",
    "version": 3
   },
   "file_extension": ".py",
   "mimetype": "text/x-python",
   "name": "python",
   "nbconvert_exporter": "python",
   "pygments_lexer": "ipython3",
   "version": "3.9.12"
  }
 },
 "nbformat": 4,
 "nbformat_minor": 5
}
